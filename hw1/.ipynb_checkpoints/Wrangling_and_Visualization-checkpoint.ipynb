{
 "cells": [
  {
   "cell_type": "markdown",
   "metadata": {
    "colab_type": "text",
    "id": "dgOzbZK2aiIu"
   },
   "source": [
    "\n",
    "# IFT6758 Fall 2019 - Assignment 1\n",
    "\n",
    "# Part 1 - Data Wrangling and Visualization\n",
    "\n"
   ]
  },
  {
   "cell_type": "markdown",
   "metadata": {
    "colab_type": "text",
    "ein.tags": "worksheet-0",
    "id": "QeeZiEA2ta6I"
   },
   "source": [
    "## Missing Values"
   ]
  },
  {
   "cell_type": "markdown",
   "metadata": {
    "colab_type": "text",
    "ein.tags": "worksheet-0",
    "id": "_mJi7KDEta6Z"
   },
   "source": [
    "4. Selection bias. Download the IMDB and Rotten Tomatoes\n",
    "[data](https://gist.githubusercontent.com/krisrs1128/9276aa2a5d9fa7ab0786bbc75f93d77a/raw/1aa5220f9e140515d04601a6c114fc43cecf1e21/movies.csv).\n",
    "\n",
    "   a. Is there any missingness in this dataset? Which columns have the most missingness?\n",
    "   \n",
    "   b. Make a hexbin scatterplot of rotten tomatoes vs. imdb scores against one\n",
    "   another. Comment on the relationship between these variables.\n",
    "   \n",
    "   c. Filter the movies to those made before 1970, and remake the scatterplot.\n",
    "   What do you notice?\n",
    "   \n",
    "   d. Propose explanations for what you see in part (c).\n"
   ]
  },
  {
   "cell_type": "markdown",
   "metadata": {
    "colab_type": "text",
    "ein.tags": "worksheet-0",
    "id": "FlVWot4Tta6s"
   },
   "source": [
    "## Tidying\n"
   ]
  },
  {
   "cell_type": "markdown",
   "metadata": {
    "colab_type": "text",
    "id": "-79-Nwy1dtPt"
   },
   "source": [
    "9. You have the following table in a variable called \"test_scores\",\n",
    "\n",
    "| Student | Physics | Chemistry | English | Math |\n",
    "|:--------|:--------|:----------|:--------|:-----|\n",
    "| John    | 78      | 79        | 56      | 95   |\n",
    "| Alice   | 58      | 72        | 91      | 81   |\n",
    "| Rachel  | 22      | 61        | 88      | 64   |\n",
    "| Tom     | 78      | 89        | 56      | 83   |\n",
    "\n",
    "\n",
    "(a) Explain the format of the table after running this code,\n",
    "```\n",
    "test_scores_clean = pd.melt(\n",
    "    test_scores,\n",
    "    id_vars=['Student'],\n",
    "    var_name=['Subject'],\n",
    "    value_name='Score'\n",
    ")\n",
    "```\n",
    "\n",
    "\n",
    "(b) Explain what the following code does.\n",
    "\n",
    "```\n",
    "test_scores.assign(\n",
    "    overall=lambda df: df.drop(\"Student\", axis=1).sum(axis=1),\n",
    "    quant=lambda df: df[\"Math\"] + df[\"Physics\"],\n",
    ")\n",
    "```"
   ]
  },
  {
   "cell_type": "markdown",
   "metadata": {
    "colab_type": "text",
    "id": "LHRPgOP5NdPh"
   },
   "source": [
    "**Answer**\n",
    "\n",
    "---\n",
    "\n"
   ]
  },
  {
   "cell_type": "markdown",
   "metadata": {
    "colab_type": "text",
    "id": "iP9CR3CbIohb"
   },
   "source": [
    "a) To examine, we recreate the table using pandas by running the following code, and add the function we are interested in. The implementation is done using ***`Dataframe`***, and we print the transformed table."
   ]
  },
  {
   "cell_type": "code",
   "execution_count": 0,
   "metadata": {
    "colab": {
     "base_uri": "https://localhost:8080/",
     "height": 545
    },
    "colab_type": "code",
    "id": "yMvYnrjMFxsS",
    "outputId": "596d892e-d104-42b0-b199-347813389913"
   },
   "outputs": [
    {
     "data": {
      "text/html": [
       "<div>\n",
       "<style scoped>\n",
       "    .dataframe tbody tr th:only-of-type {\n",
       "        vertical-align: middle;\n",
       "    }\n",
       "\n",
       "    .dataframe tbody tr th {\n",
       "        vertical-align: top;\n",
       "    }\n",
       "\n",
       "    .dataframe thead th {\n",
       "        text-align: right;\n",
       "    }\n",
       "</style>\n",
       "<table border=\"1\" class=\"dataframe\">\n",
       "  <thead>\n",
       "    <tr style=\"text-align: right;\">\n",
       "      <th></th>\n",
       "      <th>Student</th>\n",
       "      <th>Subject</th>\n",
       "      <th>Score</th>\n",
       "    </tr>\n",
       "  </thead>\n",
       "  <tbody>\n",
       "    <tr>\n",
       "      <th>0</th>\n",
       "      <td>John</td>\n",
       "      <td>Physics</td>\n",
       "      <td>78</td>\n",
       "    </tr>\n",
       "    <tr>\n",
       "      <th>1</th>\n",
       "      <td>Alice</td>\n",
       "      <td>Physics</td>\n",
       "      <td>58</td>\n",
       "    </tr>\n",
       "    <tr>\n",
       "      <th>2</th>\n",
       "      <td>Rachel</td>\n",
       "      <td>Physics</td>\n",
       "      <td>22</td>\n",
       "    </tr>\n",
       "    <tr>\n",
       "      <th>3</th>\n",
       "      <td>Tom</td>\n",
       "      <td>Physics</td>\n",
       "      <td>78</td>\n",
       "    </tr>\n",
       "    <tr>\n",
       "      <th>4</th>\n",
       "      <td>John</td>\n",
       "      <td>Chemistry</td>\n",
       "      <td>79</td>\n",
       "    </tr>\n",
       "    <tr>\n",
       "      <th>5</th>\n",
       "      <td>Alice</td>\n",
       "      <td>Chemistry</td>\n",
       "      <td>72</td>\n",
       "    </tr>\n",
       "    <tr>\n",
       "      <th>6</th>\n",
       "      <td>Rachel</td>\n",
       "      <td>Chemistry</td>\n",
       "      <td>61</td>\n",
       "    </tr>\n",
       "    <tr>\n",
       "      <th>7</th>\n",
       "      <td>Tom</td>\n",
       "      <td>Chemistry</td>\n",
       "      <td>89</td>\n",
       "    </tr>\n",
       "    <tr>\n",
       "      <th>8</th>\n",
       "      <td>John</td>\n",
       "      <td>English</td>\n",
       "      <td>56</td>\n",
       "    </tr>\n",
       "    <tr>\n",
       "      <th>9</th>\n",
       "      <td>Alice</td>\n",
       "      <td>English</td>\n",
       "      <td>91</td>\n",
       "    </tr>\n",
       "    <tr>\n",
       "      <th>10</th>\n",
       "      <td>Rachel</td>\n",
       "      <td>English</td>\n",
       "      <td>88</td>\n",
       "    </tr>\n",
       "    <tr>\n",
       "      <th>11</th>\n",
       "      <td>Tom</td>\n",
       "      <td>English</td>\n",
       "      <td>56</td>\n",
       "    </tr>\n",
       "    <tr>\n",
       "      <th>12</th>\n",
       "      <td>John</td>\n",
       "      <td>Math</td>\n",
       "      <td>95</td>\n",
       "    </tr>\n",
       "    <tr>\n",
       "      <th>13</th>\n",
       "      <td>Alice</td>\n",
       "      <td>Math</td>\n",
       "      <td>81</td>\n",
       "    </tr>\n",
       "    <tr>\n",
       "      <th>14</th>\n",
       "      <td>Rachel</td>\n",
       "      <td>Math</td>\n",
       "      <td>64</td>\n",
       "    </tr>\n",
       "    <tr>\n",
       "      <th>15</th>\n",
       "      <td>Tom</td>\n",
       "      <td>Math</td>\n",
       "      <td>83</td>\n",
       "    </tr>\n",
       "  </tbody>\n",
       "</table>\n",
       "</div>"
      ],
      "text/plain": [
       "   Student    Subject  Score\n",
       "0     John    Physics     78\n",
       "1    Alice    Physics     58\n",
       "2   Rachel    Physics     22\n",
       "3      Tom    Physics     78\n",
       "4     John  Chemistry     79\n",
       "5    Alice  Chemistry     72\n",
       "6   Rachel  Chemistry     61\n",
       "7      Tom  Chemistry     89\n",
       "8     John    English     56\n",
       "9    Alice    English     91\n",
       "10  Rachel    English     88\n",
       "11     Tom    English     56\n",
       "12    John       Math     95\n",
       "13   Alice       Math     81\n",
       "14  Rachel       Math     64\n",
       "15     Tom       Math     83"
      ]
     },
     "execution_count": 3,
     "metadata": {
      "tags": []
     },
     "output_type": "execute_result"
    }
   ],
   "source": [
    "import pandas as pd\n",
    "\n",
    "# table implementation by by filling in columns\n",
    "test_scores = pd.DataFrame({'Student': {0: 'John', 1: 'Alice', 2: 'Rachel', 3: 'Tom' }, \n",
    "                   'Physics': {0: 78, 1: 58, 2: 22, 3: 78}, \n",
    "                   'Chemistry': {0: 79, 1: 72, 2: 61, 3: 89},\n",
    "                   'English': {0: 56, 1: 91, 2: 88, 3: 56},\n",
    "                   'Math': {0: 95, 1: 81, 2: 64, 3: 83}\n",
    "                  }) \n",
    "\n",
    "# function of interest\n",
    "test_scores_clean = pd.melt(\n",
    "    test_scores,\n",
    "    id_vars=['Student'],\n",
    "    var_name=['Subject'],\n",
    "    value_name='Score'\n",
    ")\n",
    "\n",
    "# console display\n",
    "test_scores_clean"
   ]
  },
  {
   "cell_type": "markdown",
   "metadata": {
    "colab_type": "text",
    "id": "Aw-rZZKaKeZL"
   },
   "source": [
    "Observing from the console, the new table confirms our predictions.\n",
    "\n",
    "---\n",
    "\n"
   ]
  },
  {
   "cell_type": "markdown",
   "metadata": {
    "colab_type": "text",
    "id": "7rCMfVMDKieq"
   },
   "source": [
    "\n",
    "b) Reading the code, the ***`Dataframe.assign()`*** method being used. We are 'appending' (adding) new columns to a DataFrame(table), returning a new object (a copy) with the new columns added to the original ones. Existing columns that are re-assigned will be overwritten. \n",
    "\n",
    "It is notable that the length of newly assigned item must match the number of rows of the table. There are two columns being added: **`overall`** and **`quant`**. Since they do not share the same name with anything existing, they will be appended to the end of the table.\n",
    "\n",
    "\n",
    "\n",
    "\n",
    "> **`overall`**\n",
    "The first method, **`DataFrame.drop()`**, removes the dataframe indicated by either the column name or index number. Here we are removing the column named ***'Student'***, whose values(labels) are all character strings of names. **`axis = 1`** tells us to drop the labels from column. The end result would return a data frame of only columns with different subjects as name and scores (integer) as number. This is to achieve the end goal of computing the total score per student, i.e. summation of scores by row, which is **`sum()`** method and the axis set to '1' (per 'row'). In doing so, we shall remove the character string on each row, which is the label on the now-removed 'Student' column. The end result is the algebraic sum of all subjects' scores displayed under the column name ***'overall'***.\n",
    "\n",
    "Ex. \n",
    "First row - John: under the new column 'overall', the value should be 78 + 79 + 56 + 95 = **308**. \n",
    "\n",
    "*This method is similar to the concept of 'splice'-ing.\n",
    "\n",
    "> **`quant`**\n",
    "The method does a simple computation of summing the labels under 'Math' and 'Physics' columns, returning the algebraic sum under a new column named 'quant'. We access the labels by indicating the corresponding column name directly, and the operation is again done row-wise. Since the two input arguments are integer, the return type is also an integer.\n",
    "\n",
    "Ex. \n",
    "First row - John: under the new column 'quant', the value should be 78 + 95 = **173**. \n",
    "\n",
    "\n",
    "We again implement the table with the function we are dealing with and check the results."
   ]
  },
  {
   "cell_type": "code",
   "execution_count": 0,
   "metadata": {
    "colab": {
     "base_uri": "https://localhost:8080/",
     "height": 173
    },
    "colab_type": "code",
    "id": "AMK5W8MJLI0Z",
    "outputId": "379d27c7-aa33-4f72-d486-eeb079a8c8b5"
   },
   "outputs": [
    {
     "data": {
      "text/html": [
       "<div>\n",
       "<style scoped>\n",
       "    .dataframe tbody tr th:only-of-type {\n",
       "        vertical-align: middle;\n",
       "    }\n",
       "\n",
       "    .dataframe tbody tr th {\n",
       "        vertical-align: top;\n",
       "    }\n",
       "\n",
       "    .dataframe thead th {\n",
       "        text-align: right;\n",
       "    }\n",
       "</style>\n",
       "<table border=\"1\" class=\"dataframe\">\n",
       "  <thead>\n",
       "    <tr style=\"text-align: right;\">\n",
       "      <th></th>\n",
       "      <th>Student</th>\n",
       "      <th>Physics</th>\n",
       "      <th>Chemistry</th>\n",
       "      <th>English</th>\n",
       "      <th>Math</th>\n",
       "      <th>overall</th>\n",
       "      <th>quant</th>\n",
       "    </tr>\n",
       "  </thead>\n",
       "  <tbody>\n",
       "    <tr>\n",
       "      <th>0</th>\n",
       "      <td>John</td>\n",
       "      <td>78</td>\n",
       "      <td>79</td>\n",
       "      <td>56</td>\n",
       "      <td>95</td>\n",
       "      <td>308</td>\n",
       "      <td>173</td>\n",
       "    </tr>\n",
       "    <tr>\n",
       "      <th>1</th>\n",
       "      <td>Alice</td>\n",
       "      <td>58</td>\n",
       "      <td>72</td>\n",
       "      <td>91</td>\n",
       "      <td>81</td>\n",
       "      <td>302</td>\n",
       "      <td>139</td>\n",
       "    </tr>\n",
       "    <tr>\n",
       "      <th>2</th>\n",
       "      <td>Rachel</td>\n",
       "      <td>22</td>\n",
       "      <td>61</td>\n",
       "      <td>88</td>\n",
       "      <td>64</td>\n",
       "      <td>235</td>\n",
       "      <td>86</td>\n",
       "    </tr>\n",
       "    <tr>\n",
       "      <th>3</th>\n",
       "      <td>Tom</td>\n",
       "      <td>78</td>\n",
       "      <td>89</td>\n",
       "      <td>56</td>\n",
       "      <td>83</td>\n",
       "      <td>306</td>\n",
       "      <td>161</td>\n",
       "    </tr>\n",
       "  </tbody>\n",
       "</table>\n",
       "</div>"
      ],
      "text/plain": [
       "  Student  Physics  Chemistry  English  Math  overall  quant\n",
       "0    John       78         79       56    95      308    173\n",
       "1   Alice       58         72       91    81      302    139\n",
       "2  Rachel       22         61       88    64      235     86\n",
       "3     Tom       78         89       56    83      306    161"
      ]
     },
     "execution_count": 13,
     "metadata": {
      "tags": []
     },
     "output_type": "execute_result"
    }
   ],
   "source": [
    "import pandas as pd\n",
    "\n",
    "# table implementation by by filling in columns\n",
    "test_scores = pd.DataFrame({'Student': {0: 'John', 1: 'Alice', 2: 'Rachel', 3: 'Tom' }, \n",
    "                   'Physics': {0: 78, 1: 58, 2: 22, 3: 78}, \n",
    "                   'Chemistry': {0: 79, 1: 72, 2: 61, 3: 89},\n",
    "                   'English': {0: 56, 1: 91, 2: 88, 3: 56},\n",
    "                   'Math': {0: 95, 1: 81, 2: 64, 3: 83}\n",
    "                  }) \n",
    "\n",
    "# function of interest\n",
    "test_scores.assign(\n",
    "    overall=lambda df: df.drop(\"Student\", axis=1).sum(axis=1), # remove the character string (by column) and get row-wise algebraic sum\n",
    "    quant=lambda df: df[\"Math\"] + df[\"Physics\"], # algebraic sum of labels of 'Math' and 'Physics' columns\n",
    ")"
   ]
  },
  {
   "cell_type": "markdown",
   "metadata": {
    "colab_type": "text",
    "id": "Cdvc-_tPbkkj"
   },
   "source": [
    "Observing from the console, the new table confirms our predictions.\n",
    "\n",
    "---\n",
    "\n"
   ]
  },
  {
   "cell_type": "markdown",
   "metadata": {
    "colab_type": "text",
    "ein.tags": "worksheet-0",
    "id": "N4qy79knta7Q"
   },
   "source": [
    "# Visualization"
   ]
  },
  {
   "cell_type": "markdown",
   "metadata": {
    "colab_type": "text",
    "ein.tags": "worksheet-0",
    "id": "h3X518ikta7j"
   },
   "source": [
    "12. Making a heatmap. Heatmaps are a way of plotting continuous values against\n",
    "combinations of categorical variables. We'll use them to analyze a gene\n",
    "expression dataset, collected to study changes in expression after the first\n",
    "symmetry breaking event of the embryo. The rows of the matrix correspond to\n",
    "genes, and the columns are different experimental samples.\n",
    "\n",
    "  a. Make a heatmap of the [raw\n",
    "data](https://gist.githubusercontent.com/krisrs1128/b8dc85b659186259715f8efe950ffce6/raw/77669ebdda4d6f8a029c2fdf506f4599277b50f4/hiiragi.csv),\n",
    "using `sns.heatmap`. Make sure to use a diverging color scale, centered around zero.\n",
    " \n",
    " b. The heatmap is not particularly informative. It's hard to make comparisons\n",
    "across either genes or samples, since there are so many of them. To remedy this,\n",
    "order them using a clustering method (the details are unimportant), as\n",
    "implemented in the `clustermap` function. （can use `clusterdump` directly)"
   ]
  },
  {
   "cell_type": "code",
   "execution_count": 0,
   "metadata": {
    "colab": {},
    "colab_type": "code",
    "id": "Zf985LzR84dC"
   },
   "outputs": [],
   "source": [
    "print(\"test\")"
   ]
  }
 ],
 "metadata": {
  "colab": {
   "collapsed_sections": [
    "FlVWot4Tta6s"
   ],
   "name": "Wrangling and Visualization.ipynb",
   "provenance": []
  },
  "kernelspec": {
   "display_name": "Python 3",
   "language": "python",
   "name": "python3"
  },
  "language_info": {
   "codemirror_mode": {
    "name": "ipython",
    "version": 3
   },
   "file_extension": ".py",
   "mimetype": "text/x-python",
   "name": "python",
   "nbconvert_exporter": "python",
   "pygments_lexer": "ipython3",
   "version": "3.7.3"
  },
  "name": "problem_sheet_1.ipynb"
 },
 "nbformat": 4,
 "nbformat_minor": 1
}
