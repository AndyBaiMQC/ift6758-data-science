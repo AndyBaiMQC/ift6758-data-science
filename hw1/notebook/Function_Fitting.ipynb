{
 "cells": [
  {
   "cell_type": "markdown",
   "metadata": {
    "colab_type": "text",
    "ein.tags": "worksheet-0",
    "id": "0peXAqiTngdF"
   },
   "source": [
    "# IFT6758 Fall 2019 - Assignment 1\n",
    "\n",
    "# Part 2 - Function Fitting"
   ]
  },
  {
   "cell_type": "markdown",
   "metadata": {
    "colab_type": "text",
    "id": "nbFa0M57qKML"
   },
   "source": [
    "## Linear Regression"
   ]
  },
  {
   "cell_type": "markdown",
   "metadata": {
    "colab_type": "text",
    "ein.tags": "worksheet-0",
    "id": "k6CozozengdX"
   },
   "source": [
    "1. [ISLR 3.7.5] Consider the fitted values that result from performing linear regression without an intercept. In this setting, the $i^{th}$ fitted value takes the form,\n",
    "$\\hat{y}_i = x_i \\hat{\\beta}$\n",
    "where\n",
    "$$\\hat{\\beta} = \\frac{\\sum_{i = 1}^{n} x_i y_i}{\\sum_{i = 1}^{n} x_i^{2}}$$\n",
    "Show that we can write\n",
    "$$\n",
    "\\hat{y}_i = \\sum_{i^{\\prime}} a_{i^\\prime}y_{i^{\\prime}}.\n",
    "$$\n",
    "What is $a_{i^{\\prime}}$? Note: We interpret this result by saying that the fitted values from linear regression are **linear combinations** of the response values."
   ]
  },
  {
   "cell_type": "markdown",
   "metadata": {
    "colab_type": "text",
    "id": "dbsAtJUDK1JH"
   },
   "source": [
    "\n",
    "\n",
    "\n",
    "---\n",
    "\n",
    "\n",
    "Solution\n",
    "---\n",
    "\n",
    "We rearrange based on given information:\n",
    "$$\n",
    "\\hat{y}_i = x_i \\hat{\\beta} = x_i\\frac{\\sum_{i = 1}^{n} x_i y_i}{\\sum_{i = 1}^{n} x_i^{2}} = \\frac{x_i}{\\sum_{i = 1}^{n} x_i^{2}} {\\sum_{i = 1}^{n} x_i y_i}\n",
    "$$\n",
    "To simplify, we denote:\n",
    "$$\n",
    "b_{i^\\prime} = \\frac{x_i}{\\sum_{i = 1}^{n} x_i^{2}}.\n",
    "$$\n",
    "Substitute back in:\n",
    "$$\n",
    "\\hat{y}_i = b_{i^\\prime} {\\sum_{i = 1}^{n} x_i y_i}={\\sum_{i^\\prime}}b_{i^\\prime}x_{i^\\prime} y_{i^\\prime}\n",
    "$$\n",
    "Of which, we can further denote: \n",
    "$$\n",
    "\\hat{y}_i = {\\sum_{i^\\prime}}a_{i^\\prime}y_{i^\\prime}\n",
    "$$\n",
    "Whereby:\n",
    "$$\n",
    "a_{i^\\prime} = b_{i^\\prime}x_{i^\\prime} = \\frac{x_i}{\\sum_{i = 1}^{n} x_i^{2}}{\\sum_{i = 1}^{n} x_i} = \\frac{\\sum_{i = 1}^{n} x_i}{\\sum_{i = 1}^{n} x_i^{2}}x_{i}\n",
    "$$\n",
    "\n",
    "\n",
    "---\n",
    "\n"
   ]
  },
  {
   "cell_type": "markdown",
   "metadata": {
    "colab_type": "text",
    "ein.tags": "worksheet-0",
    "id": "Jurfc6Egngdy"
   },
   "source": [
    "## Extending Linear Regression"
   ]
  },
  {
   "cell_type": "markdown",
   "metadata": {
    "colab_type": "text",
    "ein.tags": "worksheet-0",
    "id": "oQcKngBangdz"
   },
   "source": [
    "8. [ISLR 7.9.3] Suppose we fit a curve with basis functions $b_1\\left(x\\right)\n",
    "= x, b_2\\left(x\\right) = \\left(x - 1\\right)^2\\mathbb{1}\\{x \\geq 1\\}$. (Note\n",
    "that $\\mathbb{1}\\{x \\geq 1 \\}$ equals 1 for $x \\geq 1$ and 0 otherwise.) We\n",
    "fit the linear regression model,\n",
    "$$\n",
    "y = \\beta_0 + \\beta_1 b_1\\left(x\\right) + \\beta_2 b_2\\left(x\\right) + \\epsilon\n",
    "$$\n",
    "and obtain coefficient estimates $$\\hat{\\beta}_0 = 1, \\hat{\\beta}_1 = 1\n",
    "\\hat{\\beta}_2 = -2.$$ Sketch the estimated curve between $x = -2$ and $x =\n",
    "2$. Note the intercepts, slopes, and other relevant information."
   ]
  },
  {
   "cell_type": "markdown",
   "metadata": {
    "colab_type": "text",
    "id": "-971WhZIKgZ4"
   },
   "source": [
    "---\n",
    "\n",
    "\n",
    "Solution\n",
    "---\n",
    "The plot is shown below. Some additional information follows suite."
   ]
  },
  {
   "cell_type": "code",
   "execution_count": 0,
   "metadata": {
    "colab": {
     "base_uri": "https://localhost:8080/",
     "height": 292
    },
    "colab_type": "code",
    "id": "qnAYxJYSAF39",
    "outputId": "f83ac0b9-9205-4e6a-a9b4-c8078b5a61d9"
   },
   "outputs": [
    {
     "data": {
      "image/png": "[encoded data removed]",
      "text/plain": [
       "<Figure size 432x288 with 1 Axes>"
      ]
     },
     "metadata": {
      "tags": []
     },
     "output_type": "display_data"
    }
   ],
   "source": [
    "import matplotlib.pyplot as plt\n",
    "import numpy as np\n",
    "\n",
    "# Initialize two numpy arrays, note y is only initiated with same length and \n",
    "# will be updated with correct values later to improve spatial complexity/cost\n",
    "x = np.linspace(-2, 2, 1000)\n",
    "y = np.zeros(1000)\n",
    "\n",
    "# Update with proper values\n",
    "for i in range(len(x)):\n",
    "  # Implement the condition posed by the inary response function\n",
    "  if x[i] < 1:\n",
    "    y[i] = 1 + x[i] - 2 * (x[i] * x[i] - 2 * x[i] + 1) * 0\n",
    "  else:\n",
    "    y[i] = 1 + x[i] - 2 * (x[i] * x[i] - 2 * x[i] + 1) * 1\n",
    "\n",
    "\n",
    "plt.plot(x,y)\n",
    "plt.xlabel(\"x\", fontsize = 20)\n",
    "plt.ylabel(\"y\", rotation = 0, fontsize = 20)\n",
    "plt.show()"
   ]
  },
  {
   "cell_type": "markdown",
   "metadata": {
    "colab_type": "text",
    "id": "dIS9hbsbK8Af"
   },
   "source": [
    "\n",
    "With the binary function, the model function is simplified to:\n",
    "\n",
    "$$\n",
    "y=\n",
    "\\begin{cases}\n",
    "1 + x, x ∈ [0, 1)\\\\\n",
    "-2x^2 + 5x -1, x ∈ [1, 2]\n",
    "\\end{cases}\n",
    "$$\n",
    "<br>\n",
    "From here, the ranges of the function for the given domain are:\n",
    "$$\n",
    "y ∈\n",
    "\\begin{cases}\n",
    "[-1, 2), \\text{for } x ∈ [0, 1)\\\\\n",
    "[2, 1], \\text{for } x ∈ [1, 2]\n",
    "\\end{cases}\n",
    "$$\n",
    "<br>\n",
    "For the given range, the function's maximum value is ***2*** and the minimum is ***-1***\n",
    "\n",
    "\n",
    "**Intercepts**\n",
    "\n",
    "In the chosen range, the function crosses both axis exactly once. To solve for it, set x or y equal to zero, and for both parts, check if the corresponding y or x values fall within the range. For the given plot, x and y axis are crossed both exactly once:\n",
    "$$\n",
    "\\begin{cases}\n",
    "\\text{x-intercept: }(-1, 0)\\\\\n",
    "\\text{y-intercept: }(0, 1)\n",
    "\\end{cases}\n",
    "$$\n",
    "\n",
    "\n",
    "**Slopes**\n",
    "\n",
    "The slopes are just derivatives of the function at each range. The function is a straight line in the first part (between ***-2*** and ***1***), the slope is constant; the second part (between ***1*** and ***2***) is quadratic, the slope is a linear function:\n",
    "$$\n",
    "{y^\\prime}=\n",
    "\\begin{cases}\n",
    "1, x ∈ [0, 1)\\\\\n",
    "-4x + 5, x ∈ [1, 2]\n",
    "\\end{cases}\n",
    "$$\n",
    "\n",
    "**Other Information**\n",
    "\n",
    "\n",
    "> There is a knot at ***x = 1***\n",
    "\n",
    "The function is increasing for the linear part (***-2*** and ***1***) and is decreasing for the second part (***-2*** and ***1***), by obvserving the plot.\n",
    "\n",
    "---\n",
    "\n"
   ]
  },
  {
   "cell_type": "markdown",
   "metadata": {
    "colab_type": "text",
    "ein.tags": "worksheet-0",
    "id": "jeBkKi3Pngd3"
   },
   "source": [
    "## Trees"
   ]
  },
  {
   "cell_type": "markdown",
   "metadata": {
    "colab_type": "text",
    "ein.tags": "worksheet-0",
    "id": "-8_lhxenngd4"
   },
   "source": [
    "11. [ISLR 8.4.4] Consider the figure below. \n",
    "\n",
    "  a. Sketch the tree corresponding to the partition of the predictor space\n",
    "illustrated in the left-hand panel. The numbers inside the boxes indicate the\n",
    "mean of $Y$ within each region. \n",
    "\n",
    "  b. Create a diagram similar to the left-hand\n",
    "panel, using the tree illustrated in the right-hand panel. You should divide up\n",
    "the predictor space into the correct regions, and indicate the mean for each\n",
    "region.\n",
    "\n",
    "<img width=600 src=\"https://drive.google.com/uc?id=19JrCdZvvj3YNqeKj2D8u7SKXCvv_aUkC\"/>\n"
   ]
  }
 ],
 "metadata": {
  "colab": {
   "collapsed_sections": [],
   "name": "Function Fitting.ipynb",
   "provenance": []
  },
  "kernelspec": {
   "display_name": "Python 3",
   "language": "python",
   "name": "python3"
  },
  "language_info": {
   "codemirror_mode": {
    "name": "ipython",
    "version": 3
   },
   "file_extension": ".py",
   "mimetype": "text/x-python",
   "name": "python",
   "nbconvert_exporter": "python",
   "pygments_lexer": "ipython3",
   "version": "3.7.3"
  },
  "name": "Untitled.ipynb"
 },
 "nbformat": 4,
 "nbformat_minor": 1
}
