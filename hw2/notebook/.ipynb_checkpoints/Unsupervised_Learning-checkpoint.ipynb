{
 "cells": [
  {
   "cell_type": "markdown",
   "metadata": {
    "colab_type": "text",
    "id": "JADti2eq64wD"
   },
   "source": [
    "# Unsupervised Learning\n",
    "# IFT6758 Fall 2019"
   ]
  },
  {
   "cell_type": "markdown",
   "metadata": {
    "colab_type": "text",
    "id": "ZzHMPwOw5gT7"
   },
   "source": [
    "## Clustering\n",
    "\n",
    "2. [ISLR 10.7.4] Suppose that for a particular data set, we perform hierarchical clustering using single inkage and using complete linkage. We obtain two dendrograms.\n",
    "\n",
    "  a. At a certain point on the single linkage dendrogram, the clusters $\\{1, 2, 3\\}$ and $\\{4, 5\\}$ fuse. On the complete linkage dendrogram, the clusters $\\{1, 2,3 \\}$ and $\\{4, 5\\}$ also fuse at a certain point. Which fusion will occur higher on the tree, or will they fuse at the same height, or is there not enough information to tell?\n",
    "  \n",
    "  b. At a certain point on the single linkage dendrogram, the clusters $\\{5\\}$ and $\\{6\\}$ fuse. On the complete linkage dendrogram, the clusters $\\{5\\}$ and $\\{6\\}$ also fuse at a certain point. Which fusion will occur higher on the tree, or will they fuse at the same height, or is there not enough information to tell?\n"
   ]
  },
  {
   "cell_type": "markdown",
   "metadata": {
    "colab_type": "text",
    "id": "knTutpPX60mn"
   },
   "source": [
    "## Dimensionality Reduction"
   ]
  },
  {
   "cell_type": "markdown",
   "metadata": {
    "colab_type": "text",
    "id": "2fgnYyTP67bi"
   },
   "source": [
    "4. Consider the numbers $\\lambda_1 = \\|z_1\\|_{2},\\dots, \\lambda_{p} = \\|z_{p}\\|_{2}$, giving the proportion of variance explained, as in equation ISLR (10.7). Define the statistics $\\sum_{k = 1}^{p} \\left(\\lambda_k - \\bar{\\lambda}\\right)^2$, where $\\bar{\\lambda}$ is the average of all the $\\lambda_1, \\dots, \\lambda_p$. Discuss the relative usefulness of dimensionality reduction when this statistic is large vs. small."
   ]
  }
 ],
 "metadata": {
  "colab": {
   "collapsed_sections": [],
   "name": "Unsupervised Learning.ipynb",
   "provenance": []
  },
  "kernelspec": {
   "display_name": "Python 3",
   "language": "python",
   "name": "python3"
  },
  "language_info": {
   "codemirror_mode": {
    "name": "ipython",
    "version": 3
   },
   "file_extension": ".py",
   "mimetype": "text/x-python",
   "name": "python",
   "nbconvert_exporter": "python",
   "pygments_lexer": "ipython3",
   "version": "3.7.3"
  }
 },
 "nbformat": 4,
 "nbformat_minor": 1
}
